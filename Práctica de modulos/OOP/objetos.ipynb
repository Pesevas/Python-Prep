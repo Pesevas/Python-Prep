{
 "cells": [
  {
   "cell_type": "code",
   "execution_count": 53,
   "metadata": {},
   "outputs": [],
   "source": [
    "class Perro:\n",
    "    def __init__(self,nombre,edad,raza,sexo):\n",
    "        self.nombre=nombre\n",
    "        self.edad=edad\n",
    "        self.raza=raza\n",
    "        self.sexo=sexo\n",
    "    def presentar(self):\n",
    "        print(\"nombre:\",self.nombre)\n",
    "        print(\"Edad:\",self.edad,\"año\")\n",
    "        print(\"raza:\",self.raza)\n",
    "        print(\"sexo:\",self.sexo)\n",
    "\n",
    "\n",
    "        "
   ]
  },
  {
   "cell_type": "code",
   "execution_count": 54,
   "metadata": {},
   "outputs": [
    {
     "name": "stdout",
     "output_type": "stream",
     "text": [
      "<__main__.Perro object at 0x000001A940C08E10>\n"
     ]
    }
   ],
   "source": [
    "Perro1=Perro(\"Nieve\",1,\"chihuhua\",\"hembra\")\n",
    "print(Perro1)\n",
    "\n"
   ]
  },
  {
   "cell_type": "code",
   "execution_count": 55,
   "metadata": {},
   "outputs": [
    {
     "name": "stdout",
     "output_type": "stream",
     "text": [
      "nombre: Nieve\n",
      "Edad: 1 año\n",
      "raza: chihuhua\n",
      "sexo: hembra\n"
     ]
    }
   ],
   "source": [
    "Perro1.presentar()"
   ]
  },
  {
   "cell_type": "code",
   "execution_count": 56,
   "metadata": {},
   "outputs": [],
   "source": [
    "class Animal:\n",
    "    def __init__(self,especie,edad):\n",
    "        self.especie=especie\n",
    "        self.edad=edad\n",
    "\n",
    "    def hablar(self):\n",
    "        pass\n",
    "\n",
    "    def moverse(self):\n",
    "        pass\n",
    "\n",
    "    def describeme(self):\n",
    "        print(\"soy un animal del tipo\",type(self).__name__)"
   ]
  },
  {
   "cell_type": "code",
   "execution_count": 58,
   "metadata": {},
   "outputs": [],
   "source": [
    "class Perrito(Animal):\n",
    "    pass"
   ]
  },
  {
   "cell_type": "code",
   "execution_count": 61,
   "metadata": {},
   "outputs": [
    {
     "name": "stdout",
     "output_type": "stream",
     "text": [
      "soy un animal del tipo Perrito\n"
     ]
    }
   ],
   "source": [
    "mi_perro=Perrito(\"mamifero\",10)\n",
    "mi_perro.describeme()"
   ]
  },
  {
   "cell_type": "code",
   "execution_count": 62,
   "metadata": {},
   "outputs": [],
   "source": [
    "class Perrito(Animal):\n",
    "    def hablar(self):\n",
    "        print(\"guau\")\n",
    "\n",
    "    def moverse(self):\n",
    "        print(\"caminando con 4 patas\")"
   ]
  },
  {
   "cell_type": "code",
   "execution_count": 63,
   "metadata": {},
   "outputs": [],
   "source": [
    "class Vaca(Animal):\n",
    "    def hablar(self):\n",
    "        print(\"muuuuu\")\n",
    "    def moverse(self):\n",
    "        print(\"caminando en 4 patas\")"
   ]
  },
  {
   "cell_type": "code",
   "execution_count": 64,
   "metadata": {},
   "outputs": [],
   "source": [
    "class Abeja(Animal):\n",
    "    def hablar(self):\n",
    "        print(\"bzzzzz\")\n",
    "\n",
    "    def moverse(self):\n",
    "        print(\"volando\")\n",
    "    def picar(self):\n",
    "        print(\"picar\")"
   ]
  },
  {
   "cell_type": "code",
   "execution_count": 65,
   "metadata": {},
   "outputs": [],
   "source": [
    "mi_perro=Perrito(\"mamifero\",10)\n",
    "mi_vaca=Vaca(\"mamifero\",23)\n",
    "mi_abeja=Abeja(\"insecto\",1)"
   ]
  },
  {
   "cell_type": "code",
   "execution_count": 66,
   "metadata": {},
   "outputs": [
    {
     "name": "stdout",
     "output_type": "stream",
     "text": [
      "muuuuu\n"
     ]
    }
   ],
   "source": [
    "mi_vaca.hablar()"
   ]
  },
  {
   "cell_type": "code",
   "execution_count": 67,
   "metadata": {},
   "outputs": [
    {
     "name": "stdout",
     "output_type": "stream",
     "text": [
      "soy un animal del tipo Abeja\n"
     ]
    }
   ],
   "source": [
    "mi_abeja.describeme()"
   ]
  },
  {
   "cell_type": "code",
   "execution_count": 68,
   "metadata": {},
   "outputs": [
    {
     "name": "stdout",
     "output_type": "stream",
     "text": [
      "picar\n"
     ]
    }
   ],
   "source": [
    "mi_abeja.picar()"
   ]
  }
 ],
 "metadata": {
  "kernelspec": {
   "display_name": "Python 3",
   "language": "python",
   "name": "python3"
  },
  "language_info": {
   "codemirror_mode": {
    "name": "ipython",
    "version": 3
   },
   "file_extension": ".py",
   "mimetype": "text/x-python",
   "name": "python",
   "nbconvert_exporter": "python",
   "pygments_lexer": "ipython3",
   "version": "3.11.8"
  }
 },
 "nbformat": 4,
 "nbformat_minor": 2
}
