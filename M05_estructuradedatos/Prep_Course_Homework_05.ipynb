{
 "cells": [
  {
   "attachments": {},
   "cell_type": "markdown",
   "metadata": {},
   "source": [
    "## Estructuras de Datos"
   ]
  },
  {
   "attachments": {},
   "cell_type": "markdown",
   "metadata": {},
   "source": [
    "1) Crear una lista que contenga nombres de ciudades del mundo que contenga más de 5 elementos e imprimir por pantalla"
   ]
  },
  {
   "cell_type": "code",
   "execution_count": 6,
   "metadata": {},
   "outputs": [
    {
     "name": "stdout",
     "output_type": "stream",
     "text": [
      "['Lima', 'Guayaquil', 'Asunción', 'Brasil', 'Sucre', 'Buenos Aires']\n",
      "Lima\n",
      "<class 'list'>\n"
     ]
    }
   ],
   "source": [
    "ciudades_paises=[\"Lima\",\"Guayaquil\",\"Asunción\",\"Brasil\",\"Sucre\",\"Buenos Aires\"]\n",
    "print(ciudades_paises)\n",
    "print(ciudades_paises[0])\n",
    "print(type(ciudades_paises))"
   ]
  },
  {
   "attachments": {},
   "cell_type": "markdown",
   "metadata": {},
   "source": [
    "2) Imprimir por pantalla el segundo elemento de la lista"
   ]
  },
  {
   "cell_type": "code",
   "execution_count": 7,
   "metadata": {},
   "outputs": [
    {
     "name": "stdout",
     "output_type": "stream",
     "text": [
      "Guayaquil\n"
     ]
    }
   ],
   "source": [
    "print(ciudades_paises[1])"
   ]
  },
  {
   "attachments": {},
   "cell_type": "markdown",
   "metadata": {},
   "source": [
    "3) Imprimir por pantalla del segundo al cuarto elemento"
   ]
  },
  {
   "cell_type": "code",
   "execution_count": 10,
   "metadata": {},
   "outputs": [
    {
     "name": "stdout",
     "output_type": "stream",
     "text": [
      "['Guayaquil', 'Asunción', 'Brasil']\n"
     ]
    }
   ],
   "source": [
    "print(ciudades_paises[1:4])"
   ]
  },
  {
   "attachments": {},
   "cell_type": "markdown",
   "metadata": {},
   "source": [
    "4) Visualizar el tipo de dato de la lista"
   ]
  },
  {
   "cell_type": "code",
   "execution_count": 11,
   "metadata": {},
   "outputs": [
    {
     "data": {
      "text/plain": [
       "list"
      ]
     },
     "execution_count": 11,
     "metadata": {},
     "output_type": "execute_result"
    }
   ],
   "source": [
    "type(ciudades_paises)"
   ]
  },
  {
   "attachments": {},
   "cell_type": "markdown",
   "metadata": {},
   "source": [
    "5) Visualizar todos los elementos de la lista a partir del tercero de manera genérica, es decir, sin explicitar la posición del último elemento"
   ]
  },
  {
   "cell_type": "code",
   "execution_count": 14,
   "metadata": {},
   "outputs": [
    {
     "name": "stdout",
     "output_type": "stream",
     "text": [
      "['Lima', 'Guayaquil', 'Asunción', 'Brasil', 'Sucre', 'Buenos Aires']\n",
      "['Asunción', 'Brasil', 'Sucre', 'Buenos Aires']\n"
     ]
    }
   ],
   "source": [
    "print(ciudades_paises)\n",
    "print(ciudades_paises[2:])"
   ]
  },
  {
   "attachments": {},
   "cell_type": "markdown",
   "metadata": {},
   "source": [
    "6) Visualizar los primeros 4 elementos de la lista"
   ]
  },
  {
   "cell_type": "code",
   "execution_count": 16,
   "metadata": {},
   "outputs": [
    {
     "name": "stdout",
     "output_type": "stream",
     "text": [
      "['Lima', 'Guayaquil', 'Asunción', 'Brasil']\n"
     ]
    }
   ],
   "source": [
    "print(ciudades_paises[0:4])"
   ]
  },
  {
   "attachments": {},
   "cell_type": "markdown",
   "metadata": {},
   "source": [
    "7) Agregar una ciudad más a la lista que ya exista y otra que no ¿Arroja algún tipo de error?"
   ]
  },
  {
   "cell_type": "code",
   "execution_count": 26,
   "metadata": {},
   "outputs": [
    {
     "name": "stdout",
     "output_type": "stream",
     "text": [
      "['Lima', 'Guayaquil', 'Asunción', 'Brasil', 'Sucre', 'Buenos Aires', 'Lima', 'Santiago', 'Lima', 'Santiago']\n"
     ]
    }
   ],
   "source": [
    "ciudades_paises.extend([\"Lima\",\"Santiago\"])\n",
    "print(ciudades_paises)"
   ]
  },
  {
   "attachments": {},
   "cell_type": "markdown",
   "metadata": {},
   "source": [
    "8) Agregar otra ciudad, pero en la cuarta posición"
   ]
  },
  {
   "cell_type": "code",
   "execution_count": 56,
   "metadata": {},
   "outputs": [
    {
     "name": "stdout",
     "output_type": "stream",
     "text": [
      "['Lima', 'Guayaquil', 'Asunción', 'Brasil', 'Caracas', 'Sucre', 'Buenos Aires', 'Lima', 'Santiago', 'Lima', 'Santiago']\n"
     ]
    }
   ],
   "source": [
    "ciudades_paises.insert(4,\"Caracas\")\n",
    "print(ciudades_paises)\n"
   ]
  },
  {
   "attachments": {},
   "cell_type": "markdown",
   "metadata": {},
   "source": [
    "9) Concatenar otra lista a la ya creada"
   ]
  },
  {
   "cell_type": "code",
   "execution_count": 63,
   "metadata": {},
   "outputs": [
    {
     "name": "stdout",
     "output_type": "stream",
     "text": [
      "['Ciudad De Mexico', 'San Jose', 'San Salvador']\n",
      "['Lima', 'Guayaquil', 'Asunción', 'Brasil', 'Caracas', 'Sucre', 'Buenos Aires', 'Lima', 'Santiago', 'Lima', 'Santiago', 'Ciudad De Mexico', 'San Jose', 'San Salvador']\n",
      "['Lima', 'Guayaquil', 'Asunción', 'Brasil', 'Caracas', 'Sucre', 'Buenos Aires', 'Lima', 'Santiago', 'Lima', 'Santiago', 'Ciudad De Mexico', 'San Jose', 'San Salvador']\n"
     ]
    }
   ],
   "source": [
    "ciudades_adicionales=[\"Ciudad De Mexico\",\"San Jose\",\"San Salvador\"]\n",
    "print(ciudades_adicionales)\n",
    "print(ciudades_paises+ciudades_adicionales)\n",
    "ciudades_paises.extend(ciudades_adicionales)\n",
    "print(ciudades_paises)"
   ]
  },
  {
   "attachments": {},
   "cell_type": "markdown",
   "metadata": {},
   "source": [
    "10) Encontrar el índice de la ciudad que en el punto 7 agregamos duplicada. ¿Se nota alguna particularidad?"
   ]
  },
  {
   "cell_type": "code",
   "execution_count": 67,
   "metadata": {},
   "outputs": [
    {
     "name": "stdout",
     "output_type": "stream",
     "text": [
      "0\n"
     ]
    }
   ],
   "source": [
    "print(ciudades_paises.index(\"Lima\")) # bota como resultado 0, ya que el valor esta duplicado."
   ]
  },
  {
   "attachments": {},
   "cell_type": "markdown",
   "metadata": {},
   "source": [
    "11) ¿Qué pasa si se busca un elemento que no existe?"
   ]
  },
  {
   "cell_type": "code",
   "execution_count": 68,
   "metadata": {},
   "outputs": [
    {
     "ename": "ValueError",
     "evalue": "'Bogota' is not in list",
     "output_type": "error",
     "traceback": [
      "\u001b[1;31m---------------------------------------------------------------------------\u001b[0m",
      "\u001b[1;31mValueError\u001b[0m                                Traceback (most recent call last)",
      "Cell \u001b[1;32mIn[68], line 1\u001b[0m\n\u001b[1;32m----> 1\u001b[0m \u001b[43mciudades_paises\u001b[49m\u001b[38;5;241;43m.\u001b[39;49m\u001b[43mindex\u001b[49m\u001b[43m(\u001b[49m\u001b[38;5;124;43m\"\u001b[39;49m\u001b[38;5;124;43mBogota\u001b[39;49m\u001b[38;5;124;43m\"\u001b[39;49m\u001b[43m)\u001b[49m\n",
      "\u001b[1;31mValueError\u001b[0m: 'Bogota' is not in list"
     ]
    }
   ],
   "source": [
    "ciudades_paises.index(\"Bogota\") # nos indica que hay error y que Boggota no se encuentra en la lista"
   ]
  },
  {
   "attachments": {},
   "cell_type": "markdown",
   "metadata": {},
   "source": [
    "12) Eliminar un elemento de la lista"
   ]
  },
  {
   "cell_type": "code",
   "execution_count": 70,
   "metadata": {},
   "outputs": [
    {
     "name": "stdout",
     "output_type": "stream",
     "text": [
      "['Guayaquil', 'Asunción', 'Brasil', 'Caracas', 'Sucre', 'Buenos Aires', 'Santiago', 'Lima', 'Santiago', 'Ciudad De Mexico', 'San Jose', 'San Salvador']\n"
     ]
    }
   ],
   "source": [
    "ciudades_paises.remove(\"Lima\")\n",
    "print(ciudades_paises)"
   ]
  },
  {
   "attachments": {},
   "cell_type": "markdown",
   "metadata": {},
   "source": [
    "13) ¿Qué pasa si el elemento a eliminar no existe?"
   ]
  },
  {
   "cell_type": "code",
   "execution_count": 71,
   "metadata": {},
   "outputs": [
    {
     "ename": "ValueError",
     "evalue": "list.remove(x): x not in list",
     "output_type": "error",
     "traceback": [
      "\u001b[1;31m---------------------------------------------------------------------------\u001b[0m",
      "\u001b[1;31mValueError\u001b[0m                                Traceback (most recent call last)",
      "Cell \u001b[1;32mIn[71], line 1\u001b[0m\n\u001b[1;32m----> 1\u001b[0m \u001b[43mciudades_paises\u001b[49m\u001b[38;5;241;43m.\u001b[39;49m\u001b[43mremove\u001b[49m\u001b[43m(\u001b[49m\u001b[38;5;124;43m\"\u001b[39;49m\u001b[38;5;124;43mBogota\u001b[39;49m\u001b[38;5;124;43m\"\u001b[39;49m\u001b[43m)\u001b[49m\n",
      "\u001b[1;31mValueError\u001b[0m: list.remove(x): x not in list"
     ]
    }
   ],
   "source": [
    "ciudades_paises.remove(\"Bogota\") # nos sale error, indica que elemento no se encuentra dentro de la lista."
   ]
  },
  {
   "attachments": {},
   "cell_type": "markdown",
   "metadata": {},
   "source": [
    "14) Extraer el úlimo elemento de la lista, guardarlo en una variable e imprimirlo"
   ]
  },
  {
   "cell_type": "code",
   "execution_count": 72,
   "metadata": {},
   "outputs": [
    {
     "name": "stdout",
     "output_type": "stream",
     "text": [
      "['Guayaquil', 'Asunción', 'Brasil', 'Caracas', 'Sucre', 'Buenos Aires', 'Santiago', 'Lima', 'Santiago', 'Ciudad De Mexico', 'San Jose']\n",
      "San Salvador\n"
     ]
    }
   ],
   "source": [
    "ultimo_elemento=ciudades_paises.pop()\n",
    "print(ciudades_paises)\n",
    "print(ultimo_elemento)"
   ]
  },
  {
   "attachments": {},
   "cell_type": "markdown",
   "metadata": {},
   "source": [
    "15) Mostrar la lista multiplicada por 4"
   ]
  },
  {
   "cell_type": "code",
   "execution_count": 73,
   "metadata": {},
   "outputs": [
    {
     "name": "stdout",
     "output_type": "stream",
     "text": [
      "['Guayaquil', 'Asunción', 'Brasil', 'Caracas', 'Sucre', 'Buenos Aires', 'Santiago', 'Lima', 'Santiago', 'Ciudad De Mexico', 'San Jose', 'Guayaquil', 'Asunción', 'Brasil', 'Caracas', 'Sucre', 'Buenos Aires', 'Santiago', 'Lima', 'Santiago', 'Ciudad De Mexico', 'San Jose', 'Guayaquil', 'Asunción', 'Brasil', 'Caracas', 'Sucre', 'Buenos Aires', 'Santiago', 'Lima', 'Santiago', 'Ciudad De Mexico', 'San Jose', 'Guayaquil', 'Asunción', 'Brasil', 'Caracas', 'Sucre', 'Buenos Aires', 'Santiago', 'Lima', 'Santiago', 'Ciudad De Mexico', 'San Jose']\n"
     ]
    }
   ],
   "source": [
    "print(ciudades_paises*4)"
   ]
  },
  {
   "attachments": {},
   "cell_type": "markdown",
   "metadata": {},
   "source": [
    "16) Crear una tupla que contenga los números enteros del 1 al 20"
   ]
  },
  {
   "cell_type": "code",
   "execution_count": 74,
   "metadata": {},
   "outputs": [
    {
     "name": "stdout",
     "output_type": "stream",
     "text": [
      "(1, 2, 3, 4, 5, 6, 7, 8, 9, 10, 11, 12, 13, 14, 15, 16, 17, 18, 19, 20)\n"
     ]
    },
    {
     "data": {
      "text/plain": [
       "tuple"
      ]
     },
     "execution_count": 74,
     "metadata": {},
     "output_type": "execute_result"
    }
   ],
   "source": [
    "mi_tupla=1,2,3,4,5,6,7,8,9,10,11,12,13,14,15,16,17,18,19,20\n",
    "print(mi_tupla)\n",
    "type(mi_tupla)"
   ]
  },
  {
   "attachments": {},
   "cell_type": "markdown",
   "metadata": {},
   "source": [
    "17) Imprimir desde el índice 10 al 15 de la tupla"
   ]
  },
  {
   "cell_type": "code",
   "execution_count": 75,
   "metadata": {},
   "outputs": [
    {
     "name": "stdout",
     "output_type": "stream",
     "text": [
      "(11, 12, 13, 14, 15)\n"
     ]
    }
   ],
   "source": [
    "print(mi_tupla[10:15])"
   ]
  },
  {
   "attachments": {},
   "cell_type": "markdown",
   "metadata": {},
   "source": [
    "18) Evaluar si los números 20 y 30 están dentro de la tupla"
   ]
  },
  {
   "cell_type": "code",
   "execution_count": 78,
   "metadata": {},
   "outputs": [
    {
     "name": "stdout",
     "output_type": "stream",
     "text": [
      "True\n",
      "False\n"
     ]
    }
   ],
   "source": [
    "print(20 in mi_tupla)\n",
    "print(30 in mi_tupla)"
   ]
  },
  {
   "attachments": {},
   "cell_type": "markdown",
   "metadata": {},
   "source": [
    "19) Con la lista creada en el punto 1, validar la existencia del elemento 'París' y si no existe, agregarlo. Utilizar una variable e informar lo sucedido."
   ]
  },
  {
   "cell_type": "code",
   "execution_count": 96,
   "metadata": {},
   "outputs": [
    {
     "name": "stdout",
     "output_type": "stream",
     "text": [
      "Paris  ya existe dentro de la lista\n",
      "['Guayaquil', 'Asunción', 'Brasil', 'Caracas', 'Sucre', 'Buenos Aires', 'Santiago', 'Lima', 'Santiago', 'Ciudad De Mexico', 'San Jose', 'Paris']\n"
     ]
    }
   ],
   "source": [
    "elemento=\"Paris\"\n",
    "if not(elemento in ciudades_paises):\n",
    "    ciudades_paises.append(elemento)\n",
    "    print (elemento,\" se agregó a la lista\")\n",
    "else:\n",
    "    print(elemento,\" ya existe dentro de la lista\")\n",
    "print(ciudades_paises)\n"
   ]
  },
  {
   "attachments": {},
   "cell_type": "markdown",
   "metadata": {},
   "source": [
    "20) Mostrar la cantidad de veces que se encuentra un elemento específico dentro de la tupla y de la lista"
   ]
  },
  {
   "cell_type": "code",
   "execution_count": 98,
   "metadata": {},
   "outputs": [
    {
     "name": "stdout",
     "output_type": "stream",
     "text": [
      "1\n",
      "1\n"
     ]
    }
   ],
   "source": [
    "print(ciudades_paises.count(\"Buenos Aires\"))\n",
    "print(mi_tupla.count(20))"
   ]
  },
  {
   "attachments": {},
   "cell_type": "markdown",
   "metadata": {},
   "source": [
    "21) Convertir la tupla en una lista"
   ]
  },
  {
   "cell_type": "code",
   "execution_count": 99,
   "metadata": {},
   "outputs": [
    {
     "name": "stdout",
     "output_type": "stream",
     "text": [
      "<class 'tuple'>\n",
      "[1, 2, 3, 4, 5, 6, 7, 8, 9, 10, 11, 12, 13, 14, 15, 16, 17, 18, 19, 20]\n",
      "<class 'list'>\n"
     ]
    }
   ],
   "source": [
    "print(type(mi_tupla))\n",
    "nueva_lista=list(mi_tupla)\n",
    "print(nueva_lista)\n",
    "print(type(nueva_lista))"
   ]
  },
  {
   "attachments": {},
   "cell_type": "markdown",
   "metadata": {},
   "source": [
    "22) Desempaquetar solo los primeros 3 elementos de la tupla en 3 variables"
   ]
  },
  {
   "cell_type": "code",
   "execution_count": 113,
   "metadata": {},
   "outputs": [
    {
     "name": "stdout",
     "output_type": "stream",
     "text": [
      "(1, 2, 3, 4, 5, 6, 7, 8, 9, 10, 11, 12, 13, 14, 15, 16, 17, 18, 19, 20)\n",
      "<class 'tuple'>\n",
      "1\n",
      "2\n",
      "3\n"
     ]
    }
   ],
   "source": [
    "\n",
    "primer_numero,segundo_numero,tercer_numero=mi_tupla[0:3]\n",
    "print(mi_tupla)\n",
    "print(type(mi_tupla))\n",
    "print(primer_numero)\n",
    "print(segundo_numero)\n",
    "print(tercer_numero)"
   ]
  },
  {
   "attachments": {},
   "cell_type": "markdown",
   "metadata": {},
   "source": [
    "23) Crear un diccionario utilizando la lista crada en el punto 1, asignandole la clave \"ciudad\". Agregar tambien otras claves, como puede ser \"Pais\" y \"Continente\"."
   ]
  },
  {
   "cell_type": "code",
   "execution_count": 116,
   "metadata": {},
   "outputs": [
    {
     "name": "stdout",
     "output_type": "stream",
     "text": [
      "['Guayaquil', 'Asunción', 'Brasil', 'Caracas', 'Sucre', 'Buenos Aires', 'Santiago', 'Lima', 'Santiago', 'Ciudad De Mexico', 'San Jose', 'Paris']\n",
      "<class 'list'>\n",
      "{'ciudad': ['Guayaquil', 'Asunción', 'Brasil', 'Caracas', 'Sucre', 'Buenos Aires', 'Santiago', 'Lima', 'Santiago', 'Ciudad De Mexico', 'San Jose', 'Paris'], 'Pais': ['Ecuador', 'Paraguay', 'Brasil']}\n"
     ]
    }
   ],
   "source": [
    "print(ciudades_paises)\n",
    "print(type(ciudades_paises))\n",
    "mi_diccionario={\"ciudad\":ciudades_paises,\"Pais\":[\"Ecuador\",\"Paraguay\",\"Brasil\"]}\n",
    "print(mi_diccionario)"
   ]
  },
  {
   "attachments": {},
   "cell_type": "markdown",
   "metadata": {},
   "source": [
    "24) Imprimir las claves del diccionario"
   ]
  },
  {
   "cell_type": "code",
   "execution_count": 119,
   "metadata": {},
   "outputs": [
    {
     "name": "stdout",
     "output_type": "stream",
     "text": [
      "dict_keys(['ciudad', 'Pais'])\n"
     ]
    }
   ],
   "source": [
    "print(mi_diccionario.keys())"
   ]
  },
  {
   "attachments": {},
   "cell_type": "markdown",
   "metadata": {},
   "source": [
    "25) Imprimir las ciudades a través de su clave"
   ]
  },
  {
   "cell_type": "code",
   "execution_count": 125,
   "metadata": {},
   "outputs": [
    {
     "name": "stdout",
     "output_type": "stream",
     "text": [
      "dict_values([['Guayaquil', 'Asunción', 'Brasil', 'Caracas', 'Sucre', 'Buenos Aires', 'Santiago', 'Lima', 'Santiago', 'Ciudad De Mexico', 'San Jose', 'Paris'], ['Ecuador', 'Paraguay', 'Brasil']])\n",
      "['Guayaquil', 'Asunción', 'Brasil', 'Caracas', 'Sucre', 'Buenos Aires', 'Santiago', 'Lima', 'Santiago', 'Ciudad De Mexico', 'San Jose', 'Paris']\n",
      "['Ecuador', 'Paraguay', 'Brasil']\n"
     ]
    }
   ],
   "source": [
    "mi_diccionario.values()\n",
    "print(mi_diccionario.values())\n",
    "print(mi_diccionario[\"ciudad\"])\n",
    "print(mi_diccionario[\"Pais\"])\n"
   ]
  }
 ],
 "metadata": {
  "interpreter": {
   "hash": "c85384e4cb51c8b72350f3a8712cc8351fdc3955e32a27f9b60c6242ab125f01"
  },
  "kernelspec": {
   "display_name": "Python 3 (ipykernel)",
   "language": "python",
   "name": "python3"
  },
  "language_info": {
   "codemirror_mode": {
    "name": "ipython",
    "version": 3
   },
   "file_extension": ".py",
   "mimetype": "text/x-python",
   "name": "python",
   "nbconvert_exporter": "python",
   "pygments_lexer": "ipython3",
   "version": "3.11.8"
  }
 },
 "nbformat": 4,
 "nbformat_minor": 4
}
