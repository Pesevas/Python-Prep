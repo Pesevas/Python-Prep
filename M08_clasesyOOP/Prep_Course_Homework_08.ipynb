{
 "cells": [
  {
   "attachments": {},
   "cell_type": "markdown",
   "metadata": {},
   "source": [
    "## Clases y Programación Orientada a Objetos"
   ]
  },
  {
   "attachments": {},
   "cell_type": "markdown",
   "metadata": {},
   "source": [
    "1) Crear la clase vehículo que contenga los atributos:<br>\n",
    "Color<br>\n",
    "Si es moto, auto, camioneta ó camión<br>\n",
    "Cilindrada del motor"
   ]
  },
  {
   "cell_type": "code",
   "execution_count": 1,
   "metadata": {},
   "outputs": [],
   "source": [
    "class Vehículo:\n",
    "    def __init__(self,color,tipo_vehiculo,cilindrada):\n",
    "        self.color=color\n",
    "        self.tipo_vehiculo=tipo_vehiculo\n",
    "        self.cilindrada=cilindrada"
   ]
  },
  {
   "attachments": {},
   "cell_type": "markdown",
   "metadata": {},
   "source": [
    "2) A la clase Vehiculo creada en el punto 1, agregar los siguientes métodos:<br>\n",
    "Acelerar<br>\n",
    "Frenar<br>\n",
    "Doblar<br>"
   ]
  },
  {
   "cell_type": "code",
   "execution_count": 4,
   "metadata": {},
   "outputs": [],
   "source": [
    "class Vehículo:\n",
    "    def __init__(self,color,tipo_vehiculo,cilindrada):\n",
    "        self.color=color\n",
    "        self.tipo_vehiculo=tipo_vehiculo\n",
    "        self.cilindrada=cilindrada\n",
    "        self.velocidad=0\n",
    "        self.direccion=0\n",
    "\n",
    "    def acelerar(self,vel):\n",
    "        self.velocidad+=vel\n",
    "\n",
    "    def frenar(self,vel):\n",
    "        self.velocidad-=vel\n",
    "        \n",
    "    def doblar(self,grados):\n",
    "        self.direccion+=grados"
   ]
  },
  {
   "attachments": {},
   "cell_type": "markdown",
   "metadata": {},
   "source": [
    "3) Instanciar 3 objetos de la clase vehículo y ejecutar sus métodos, probar luego el resultado"
   ]
  },
  {
   "cell_type": "code",
   "execution_count": 6,
   "metadata": {},
   "outputs": [],
   "source": [
    "m1=Vehículo(\"azul\",\"moto\",3)\n",
    "m2=Vehículo(\"negro\",\"auto\",6)\n",
    "m3=Vehículo(\"blanco\",\"camioneta\",9)"
   ]
  },
  {
   "cell_type": "code",
   "execution_count": 23,
   "metadata": {},
   "outputs": [
    {
     "name": "stdout",
     "output_type": "stream",
     "text": [
      "10\n",
      "30\n",
      "50\n"
     ]
    }
   ],
   "source": [
    "m1.acelerar(5)\n",
    "m2.acelerar(10)\n",
    "m3.acelerar(15)\n",
    "print (m1.velocidad)\n",
    "print (m2.velocidad)\n",
    "print (m3.velocidad)"
   ]
  },
  {
   "cell_type": "code",
   "execution_count": 25,
   "metadata": {},
   "outputs": [
    {
     "name": "stdout",
     "output_type": "stream",
     "text": [
      "0\n",
      "20\n",
      "40\n"
     ]
    }
   ],
   "source": [
    "m1.frenar(5)\n",
    "m2.frenar(5)\n",
    "m3.frenar(5)\n",
    "print (m1.velocidad)\n",
    "print (m2.velocidad)\n",
    "print (m3.velocidad)"
   ]
  },
  {
   "attachments": {},
   "cell_type": "markdown",
   "metadata": {},
   "source": [
    "4) Agregar a la clase Vehiculo, un método que muestre su estado, es decir, a que velocidad se encuentra y su dirección. Y otro método que muestre color, tipo y cilindrada"
   ]
  },
  {
   "cell_type": "code",
   "execution_count": 26,
   "metadata": {},
   "outputs": [],
   "source": [
    "class Vehículo:\n",
    "    def __init__(self,color,tipo_vehiculo,cilindrada):\n",
    "        self.color=color\n",
    "        self.tipo_vehiculo=tipo_vehiculo\n",
    "        self.cilindrada=cilindrada\n",
    "        self.velocidad=0\n",
    "        self.direccion=0\n",
    "\n",
    "    def acelerar(self,vel):\n",
    "        self.velocidad+=vel\n",
    "\n",
    "    def frenar(self,vel):\n",
    "        self.velocidad-=vel\n",
    "        \n",
    "    def doblar(self,grados):\n",
    "        self.direccion+=grados\n",
    "\n",
    "    def estado(self):\n",
    "        print (self.tipo_vehiculo,\"se encuentra a una velocidad de\",self.velocidad,\"KM\",\"y con una dirección de\",self.direccion)\n",
    "\n",
    "    def descripcion(self):\n",
    "        print (self.tipo_vehiculo,\"de color\",self.color,\"y cilindrada de\",self.cilindrada)"
   ]
  },
  {
   "cell_type": "code",
   "execution_count": 31,
   "metadata": {},
   "outputs": [],
   "source": [
    "a1=Vehículo(\"azul\",\"camioneta\",6)"
   ]
  },
  {
   "cell_type": "code",
   "execution_count": 32,
   "metadata": {},
   "outputs": [
    {
     "name": "stdout",
     "output_type": "stream",
     "text": [
      "camioneta de color azul y cilindrada de 6\n"
     ]
    }
   ],
   "source": [
    "a1.descripcion()"
   ]
  },
  {
   "cell_type": "code",
   "execution_count": 33,
   "metadata": {},
   "outputs": [],
   "source": [
    "a1.acelerar(50)\n",
    "a1.frenar(30)\n",
    "a1.doblar(-30)"
   ]
  },
  {
   "cell_type": "code",
   "execution_count": 34,
   "metadata": {},
   "outputs": [
    {
     "name": "stdout",
     "output_type": "stream",
     "text": [
      "camioneta se encuentra a una velocidad de 20 KM y con una dirección de -30\n"
     ]
    }
   ],
   "source": [
    "a1.estado()"
   ]
  },
  {
   "attachments": {},
   "cell_type": "markdown",
   "metadata": {},
   "source": [
    "5) Crear una clase que permita utilizar las funciones creadas en la práctica del módulo 7<br>\n",
    "Verificar Primo<br>\n",
    "Valor modal<br>\n",
    "Conversión grados<br>\n",
    "Factorial<br>"
   ]
  },
  {
   "cell_type": "code",
   "execution_count": 104,
   "metadata": {},
   "outputs": [],
   "source": [
    "class Funcionesmatematicas:\n",
    "\n",
    "    #función que verifica si un número es primo\n",
    "\n",
    "    def __init__(self): \n",
    "        pass\n",
    "\n",
    "    def verifica_si_es_primo(self,numero):\n",
    "        primo=True\n",
    "        for i in range(2,numero):\n",
    "            if numero%i==0:\n",
    "                primo=False\n",
    "                break\n",
    "        return primo\n",
    "\n",
    "    # función que verifica el modal\n",
    "\n",
    "    def valor_modal(self,lista):\n",
    "        lista_unicos = []\n",
    "        lista_repeticiones = []\n",
    "        if len(lista) == 0:\n",
    "            return None\n",
    "        for elemento in lista:\n",
    "            if elemento in lista_unicos:\n",
    "                i = lista_unicos.index(elemento)\n",
    "                lista_repeticiones[i] += 1\n",
    "            else:\n",
    "                lista_unicos.append(elemento)\n",
    "                lista_repeticiones.append(1)\n",
    "        moda = lista_unicos[0]\n",
    "        maximo = lista_repeticiones[0]\n",
    "        for i, elemento in enumerate(lista_unicos):\n",
    "            if lista_repeticiones[i] > maximo:\n",
    "                moda = lista_unicos[i]\n",
    "                maximo = lista_repeticiones[i]\n",
    "        return moda, maximo\n",
    "\n",
    "    # función que convierte los grados\n",
    "\n",
    "    def calcular_temperatura(self,valor,medida_origen,medida_destino):\n",
    "        if medida_origen==\"C\"  and medida_destino==\"F\":\n",
    "            conversion=(valor*9/5)+32\n",
    "            print(valor,\"C equivale a\", conversion,\"F\")\n",
    "        elif medida_origen==\"C\" and medida_destino==\"K\":\n",
    "            conversion=valor+273.15\n",
    "            print(valor,\"C equivale a\", conversion,\"K\")\n",
    "        elif medida_origen==\"F\" and medida_destino==\"C\":\n",
    "            conversion=(valor-32)*5/9\n",
    "            print(valor,\"F equivale a\", conversion,\"C\")\n",
    "        elif medida_origen==\"F\" and medida_destino==\"K\":\n",
    "            conversion=((valor-32)*5/9)+273.15\n",
    "            print(valor,\"F equivale a\", conversion,\"K\")\n",
    "        elif medida_origen==\"K\" and medida_destino==\"C\":\n",
    "            conversion=valor-273.15\n",
    "            print(valor,\"K equivale a\", conversion,\"C\")\n",
    "        elif medida_origen==\"K\" and medida_destino==\"F\":\n",
    "            conversion=((valor-273.15)*9/5)+32\n",
    "            print(valor,\"K equivale a\", conversion,\"F\")\n",
    "        elif medida_origen==medida_destino:\n",
    "            print(\"se ha ingresado el mismo tipo de medida origen y medida destino, por lo tanto no se puede procesar la conversión\")\n",
    "        else:\n",
    "            print(\"no se ha ingresado datos válidos para realizar la conversión, recuerda usar para gardos celsius:C, para grados Farenheit:F y para grados Kelvin:K\")\n",
    "\n",
    "\n",
    "    # función factorial\n",
    "            \n",
    "    def factorial(self,n):\n",
    "        if (type(n) == int):\n",
    "            if (n > 0):\n",
    "                factorial = n\n",
    "                while (n > 2):\n",
    "                    n = n - 1\n",
    "                    factorial = factorial * n\n",
    "                print('El factorial es', factorial)\n",
    "            else:\n",
    "                print('La variable no es mayor a cero')\n",
    "        else:\n",
    "            print('La variable no es un entero')"
   ]
  },
  {
   "attachments": {},
   "cell_type": "markdown",
   "metadata": {},
   "source": [
    "6) Probar las funciones incorporadas en la clase del punto 5"
   ]
  },
  {
   "cell_type": "code",
   "execution_count": 99,
   "metadata": {},
   "outputs": [],
   "source": [
    "r=Funcionesmatematicas()"
   ]
  },
  {
   "cell_type": "code",
   "execution_count": 100,
   "metadata": {},
   "outputs": [
    {
     "data": {
      "text/plain": [
       "True"
      ]
     },
     "execution_count": 100,
     "metadata": {},
     "output_type": "execute_result"
    }
   ],
   "source": [
    "r.verifica_si_es_primo(7)"
   ]
  },
  {
   "cell_type": "code",
   "execution_count": 103,
   "metadata": {},
   "outputs": [
    {
     "name": "stdout",
     "output_type": "stream",
     "text": [
      "El valor modal es 5 y se reptie 2 veces\n"
     ]
    }
   ],
   "source": [
    "listado=[2,3,5,5]\n",
    "moda, repe=r.valor_modal(listado)\n",
    "print('El valor modal es', moda, 'y se reptie', repe, 'veces')\n"
   ]
  },
  {
   "cell_type": "code",
   "execution_count": 64,
   "metadata": {},
   "outputs": [
    {
     "name": "stdout",
     "output_type": "stream",
     "text": [
      "10 C equivale a 283.15 K\n"
     ]
    }
   ],
   "source": [
    "r.calcular_temperatura(10, 'C', 'K')"
   ]
  },
  {
   "cell_type": "code",
   "execution_count": 65,
   "metadata": {},
   "outputs": [
    {
     "name": "stdout",
     "output_type": "stream",
     "text": [
      "El factorial es 720\n"
     ]
    }
   ],
   "source": [
    "r.factorial(6)"
   ]
  },
  {
   "attachments": {},
   "cell_type": "markdown",
   "metadata": {},
   "source": [
    "7) Es necesario que la clase creada en el punto 5 contenga una lista, sobre la cual se apliquen las funciones incorporadas"
   ]
  },
  {
   "cell_type": "code",
   "execution_count": 114,
   "metadata": {},
   "outputs": [],
   "source": [
    "class Funcionesmatematicas:\n",
    "\n",
    "    def __init__(self,listadonumeros): \n",
    "        self.listado=listadonumeros\n",
    "\n",
    "    #función que verifica dentro de la lista si un número es primo\n",
    "\n",
    "    def verifica_si_es_primo(self):\n",
    "        for i in self.listado:\n",
    "            if (self.__verifica_si_es_primo(i)):\n",
    "                print (i,\"es un número primo\")\n",
    "            else:\n",
    "                print (i,\"no es un número primo\")\n",
    "\n",
    "    # función que convierte los grados del listado de números asignado\n",
    "\n",
    "    def calcular_temperatura(self,medida_origen,medida_destino):\n",
    "        for i in self.listado:\n",
    "            print(i,\"grados\",medida_origen,\"equivale a:\",self.__calcular_temperatura(i,medida_origen,medida_destino),\"grados\",medida_destino)\n",
    "\n",
    "    # función que calcula el factorial del listado asignado\n",
    "            \n",
    "    def factorial(self):\n",
    "        for i in self.listado:\n",
    "            print(\"el factorial de\",i,\"es\",self.__factorial(i))\n",
    "\n",
    "    #demás funciones\n",
    "            \n",
    "    def __verifica_si_es_primo(self,numero):\n",
    "        primo=True\n",
    "        for i in range(2,numero):\n",
    "            if numero%i==0:\n",
    "                primo=False\n",
    "                break\n",
    "        return primo\n",
    "\n",
    "    # función que verifica el modal\n",
    "\n",
    "    def valor_modal(self):\n",
    "        lista_unicos = []\n",
    "        lista_repeticiones = []\n",
    "        if len(self.listado) == 0:\n",
    "            return None\n",
    "        for elemento in self.listado:\n",
    "            if elemento in lista_unicos:\n",
    "                i = lista_unicos.index(elemento)\n",
    "                lista_repeticiones[i] += 1\n",
    "            else:\n",
    "                lista_unicos.append(elemento)\n",
    "                lista_repeticiones.append(1)\n",
    "        moda = lista_unicos[0]\n",
    "        maximo = lista_repeticiones[0]\n",
    "        for i, elemento in enumerate(lista_unicos):\n",
    "            if lista_repeticiones[i] > maximo:\n",
    "                moda = lista_unicos[i]\n",
    "                maximo = lista_repeticiones[i]\n",
    "        return moda, maximo\n",
    "\n",
    "    # función que convierte los grados\n",
    "\n",
    "    def __calcular_temperatura(self,valor,medida_origen,medida_destino):\n",
    "        if medida_origen==\"C\"  and medida_destino==\"F\":\n",
    "            conversion=(valor*9/5)+32\n",
    "            print(valor,\"C equivale a\", conversion,\"F\")\n",
    "        elif medida_origen==\"C\" and medida_destino==\"K\":\n",
    "            conversion=valor+273.15\n",
    "            print(valor,\"C equivale a\", conversion,\"K\")\n",
    "        elif medida_origen==\"F\" and medida_destino==\"C\":\n",
    "            conversion=(valor-32)*5/9\n",
    "            print(valor,\"F equivale a\", conversion,\"C\")\n",
    "        elif medida_origen==\"F\" and medida_destino==\"K\":\n",
    "            conversion=((valor-32)*5/9)+273.15\n",
    "            print(valor,\"F equivale a\", conversion,\"K\")\n",
    "        elif medida_origen==\"K\" and medida_destino==\"C\":\n",
    "            conversion=valor-273.15\n",
    "            print(valor,\"K equivale a\", conversion,\"C\")\n",
    "        elif medida_origen==\"K\" and medida_destino==\"F\":\n",
    "            conversion=((valor-273.15)*9/5)+32\n",
    "            print(valor,\"K equivale a\", conversion,\"F\")\n",
    "        elif medida_origen==medida_destino:\n",
    "            print(\"se ha ingresado el mismo tipo de medida origen y medida destino, por lo tanto no se puede procesar la conversión\")\n",
    "        else:\n",
    "            print(\"no se ha ingresado datos válidos para realizar la conversión, recuerda usar para gardos celsius:C, para grados Farenheit:F y para grados Kelvin:K\")\n",
    "\n",
    "\n",
    "    # función factorial\n",
    "            \n",
    "    def __factorial(self,n):\n",
    "        if (type(n) == int):\n",
    "            if (n > 0):\n",
    "                factorial = n\n",
    "                while (n > 2):\n",
    "                    n = n - 1\n",
    "                    factorial = factorial * n\n",
    "                print('El factorial es', factorial)\n",
    "            else:\n",
    "                print('La variable no es mayor a cero')\n",
    "        else:\n",
    "            print('La variable no es un entero')\n",
    "        "
   ]
  },
  {
   "cell_type": "code",
   "execution_count": 120,
   "metadata": {},
   "outputs": [],
   "source": [
    "m=Funcionesmatematicas([1,1,2,5,8,8,9,11,15,16,16,16,18,20])"
   ]
  },
  {
   "cell_type": "code",
   "execution_count": 108,
   "metadata": {},
   "outputs": [
    {
     "name": "stdout",
     "output_type": "stream",
     "text": [
      "1 C equivale a 33.8 F\n",
      "1 grados C equivale a: None grados F\n",
      "1 C equivale a 33.8 F\n",
      "1 grados C equivale a: None grados F\n",
      "2 C equivale a 35.6 F\n",
      "2 grados C equivale a: None grados F\n",
      "5 C equivale a 41.0 F\n",
      "5 grados C equivale a: None grados F\n",
      "8 C equivale a 46.4 F\n",
      "8 grados C equivale a: None grados F\n",
      "8 C equivale a 46.4 F\n",
      "8 grados C equivale a: None grados F\n",
      "9 C equivale a 48.2 F\n",
      "9 grados C equivale a: None grados F\n",
      "11 C equivale a 51.8 F\n",
      "11 grados C equivale a: None grados F\n",
      "15 C equivale a 59.0 F\n",
      "15 grados C equivale a: None grados F\n",
      "16 C equivale a 60.8 F\n",
      "16 grados C equivale a: None grados F\n",
      "16 C equivale a 60.8 F\n",
      "16 grados C equivale a: None grados F\n",
      "16 C equivale a 60.8 F\n",
      "16 grados C equivale a: None grados F\n",
      "18 C equivale a 64.4 F\n",
      "18 grados C equivale a: None grados F\n",
      "20 C equivale a 68.0 F\n",
      "20 grados C equivale a: None grados F\n"
     ]
    }
   ],
   "source": [
    "m.calcular_temperatura(\"C\",\"F\")"
   ]
  },
  {
   "cell_type": "code",
   "execution_count": 109,
   "metadata": {},
   "outputs": [
    {
     "name": "stdout",
     "output_type": "stream",
     "text": [
      "1 es un número primo\n",
      "1 es un número primo\n",
      "2 es un número primo\n",
      "5 es un número primo\n",
      "8 no es un número primo\n",
      "8 no es un número primo\n",
      "9 no es un número primo\n",
      "11 es un número primo\n",
      "15 no es un número primo\n",
      "16 no es un número primo\n",
      "16 no es un número primo\n",
      "16 no es un número primo\n",
      "18 no es un número primo\n",
      "20 no es un número primo\n"
     ]
    }
   ],
   "source": [
    "m.verifica_si_es_primo()"
   ]
  },
  {
   "cell_type": "code",
   "execution_count": 122,
   "metadata": {},
   "outputs": [
    {
     "name": "stdout",
     "output_type": "stream",
     "text": [
      "El valor modal es 16 y se reptie 3 veces\n"
     ]
    }
   ],
   "source": [
    "moda,repe=m.valor_modal()\n",
    "print('El valor modal es', moda, 'y se reptie', repe, 'veces')"
   ]
  },
  {
   "cell_type": "code",
   "execution_count": 113,
   "metadata": {},
   "outputs": [
    {
     "name": "stdout",
     "output_type": "stream",
     "text": [
      "El factorial es 1\n",
      "el factorial de 1 es None\n",
      "El factorial es 1\n",
      "el factorial de 1 es None\n",
      "El factorial es 2\n",
      "el factorial de 2 es None\n",
      "El factorial es 120\n",
      "el factorial de 5 es None\n",
      "El factorial es 40320\n",
      "el factorial de 8 es None\n",
      "El factorial es 40320\n",
      "el factorial de 8 es None\n",
      "El factorial es 362880\n",
      "el factorial de 9 es None\n",
      "El factorial es 39916800\n",
      "el factorial de 11 es None\n",
      "El factorial es 1307674368000\n",
      "el factorial de 15 es None\n",
      "El factorial es 20922789888000\n",
      "el factorial de 16 es None\n",
      "El factorial es 20922789888000\n",
      "el factorial de 16 es None\n",
      "El factorial es 20922789888000\n",
      "el factorial de 16 es None\n",
      "El factorial es 6402373705728000\n",
      "el factorial de 18 es None\n",
      "El factorial es 2432902008176640000\n",
      "el factorial de 20 es None\n"
     ]
    }
   ],
   "source": [
    "m.factorial()"
   ]
  },
  {
   "attachments": {},
   "cell_type": "markdown",
   "metadata": {},
   "source": [
    "8) Crear un archivo .py aparte y ubicar allí la clase generada en el punto anterior. Luego realizar la importación del módulo y probar alguna de sus funciones"
   ]
  },
  {
   "cell_type": "code",
   "execution_count": 1,
   "metadata": {},
   "outputs": [],
   "source": [
    "from funcionesmatematicas import *"
   ]
  },
  {
   "cell_type": "code",
   "execution_count": 2,
   "metadata": {},
   "outputs": [],
   "source": [
    "m2=Funcionesmatematicas([1,1,2,3,5,6,8,8])"
   ]
  },
  {
   "cell_type": "code",
   "execution_count": 3,
   "metadata": {},
   "outputs": [
    {
     "name": "stdout",
     "output_type": "stream",
     "text": [
      "1 es un número primo\n",
      "1 es un número primo\n",
      "2 es un número primo\n",
      "3 es un número primo\n",
      "5 es un número primo\n",
      "6 no es un número primo\n",
      "8 no es un número primo\n",
      "8 no es un número primo\n"
     ]
    }
   ],
   "source": [
    "m2.verifica_si_es_primo()"
   ]
  },
  {
   "cell_type": "code",
   "execution_count": 5,
   "metadata": {},
   "outputs": [
    {
     "ename": "NameError",
     "evalue": "name 'm2' is not defined",
     "output_type": "error",
     "traceback": [
      "\u001b[1;31m---------------------------------------------------------------------------\u001b[0m",
      "\u001b[1;31mNameError\u001b[0m                                 Traceback (most recent call last)",
      "Cell \u001b[1;32mIn[5], line 1\u001b[0m\n\u001b[1;32m----> 1\u001b[0m \u001b[38;5;28mprint\u001b[39m (\u001b[38;5;28mdir\u001b[39m(\u001b[43mm2\u001b[49m))\n",
      "\u001b[1;31mNameError\u001b[0m: name 'm2' is not defined"
     ]
    }
   ],
   "source": []
  }
 ],
 "metadata": {
  "interpreter": {
   "hash": "c85384e4cb51c8b72350f3a8712cc8351fdc3955e32a27f9b60c6242ab125f01"
  },
  "kernelspec": {
   "display_name": "Python 3 (ipykernel)",
   "language": "python",
   "name": "python3"
  },
  "language_info": {
   "codemirror_mode": {
    "name": "ipython",
    "version": 3
   },
   "file_extension": ".py",
   "mimetype": "text/x-python",
   "name": "python",
   "nbconvert_exporter": "python",
   "pygments_lexer": "ipython3",
   "version": "3.11.8"
  }
 },
 "nbformat": 4,
 "nbformat_minor": 4
}
