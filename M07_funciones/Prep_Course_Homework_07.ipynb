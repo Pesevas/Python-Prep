{
 "cells": [
  {
   "attachments": {},
   "cell_type": "markdown",
   "metadata": {},
   "source": [
    "## Funciones"
   ]
  },
  {
   "attachments": {},
   "cell_type": "markdown",
   "metadata": {},
   "source": [
    "1) Crear una función que reciba un número como parámetro y devuelva True si es primo y False si no lo es"
   ]
  },
  {
   "cell_type": "code",
   "execution_count": 9,
   "metadata": {},
   "outputs": [],
   "source": [
    "def verifica_si_es_primo(numero):\n",
    "    primo=True\n",
    "    for i in range(2,numero):\n",
    "        if numero%i==0:\n",
    "            primo=False\n",
    "            break\n",
    "    return primo"
   ]
  },
  {
   "cell_type": "code",
   "execution_count": 11,
   "metadata": {},
   "outputs": [
    {
     "data": {
      "text/plain": [
       "False"
      ]
     },
     "execution_count": 11,
     "metadata": {},
     "output_type": "execute_result"
    }
   ],
   "source": [
    "verifica_si_es_primo(6)"
   ]
  },
  {
   "attachments": {},
   "cell_type": "markdown",
   "metadata": {},
   "source": [
    "2) Utilizando la función del punto 1, realizar otra función que reciba de parámetro una lista de números y devuelva sólo aquellos que son primos en otra lista"
   ]
  },
  {
   "cell_type": "code",
   "execution_count": 17,
   "metadata": {},
   "outputs": [],
   "source": [
    "lista_numeros=[3,5,6,8,9,11,15]\n",
    "lista_primos=[]\n",
    "def verifica_lista_primo(lista_numeros):\n",
    "    for i in lista_numeros:\n",
    "        if verifica_si_es_primo(i)==True:\n",
    "            lista_primos.append(i)\n",
    "    return(lista_primos)"
   ]
  },
  {
   "cell_type": "code",
   "execution_count": 18,
   "metadata": {},
   "outputs": [
    {
     "data": {
      "text/plain": [
       "[3, 5, 11]"
      ]
     },
     "execution_count": 18,
     "metadata": {},
     "output_type": "execute_result"
    }
   ],
   "source": [
    "verifica_lista_primo(lista_numeros)"
   ]
  },
  {
   "attachments": {},
   "cell_type": "markdown",
   "metadata": {},
   "source": [
    "3) Crear una función que al recibir una lista de números, devuelva el que más se repite y cuántas veces lo hace. Si hay más de un \"más repetido\", que devuelva cualquiera"
   ]
  },
  {
   "cell_type": "code",
   "execution_count": 26,
   "metadata": {},
   "outputs": [],
   "source": [
    "def valor_modal(lista):\n",
    "    lista_unicos = []\n",
    "    lista_repeticiones = []\n",
    "    if len(lista) == 0:\n",
    "        return None\n",
    "    for elemento in lista:\n",
    "        if elemento in lista_unicos:\n",
    "            i = lista_unicos.index(elemento)\n",
    "            lista_repeticiones[i] += 1\n",
    "        else:\n",
    "            lista_unicos.append(elemento)\n",
    "            lista_repeticiones.append(1)\n",
    "    moda = lista_unicos[0]\n",
    "    maximo = lista_repeticiones[0]\n",
    "    for i, elemento in enumerate(lista_unicos):\n",
    "        if lista_repeticiones[i] > maximo:\n",
    "            moda = lista_unicos[i]\n",
    "            maximo = lista_repeticiones[i]\n",
    "    return moda, maximo\n",
    "\n",
    "\n"
   ]
  },
  {
   "cell_type": "code",
   "execution_count": 27,
   "metadata": {},
   "outputs": [
    {
     "data": {
      "text/plain": [
       "(1, 6)"
      ]
     },
     "execution_count": 27,
     "metadata": {},
     "output_type": "execute_result"
    }
   ],
   "source": [
    "lista=[1,2,4,3,1,1,6,7,8,5,4,3,2,1,7,8,9,5,4,6,7,8,9,3,21,1,5,7,8,9,1]\n",
    "valor_modal(lista)\n"
   ]
  },
  {
   "attachments": {},
   "cell_type": "markdown",
   "metadata": {},
   "source": [
    "4) Crear una función que convierta entre grados Celsius, Farenheit y Kelvin<br>\n",
    "Fórmula 1\t: (°C × 9/5) + 32 = °F<br>\n",
    "Fórmula 2\t: °C + 273.15 = °K<br>\n",
    "Debe recibir 3 parámetros: el valor, la medida de orígen y la medida de destino\n"
   ]
  },
  {
   "cell_type": "code",
   "execution_count": 42,
   "metadata": {},
   "outputs": [],
   "source": [
    "def calcular_temperatura(valor,medida_origen,medida_destino):\n",
    "    if medida_origen==\"C\"  and medida_destino==\"F\":\n",
    "        conversion=(valor*9/5)+32\n",
    "        print(valor,\"C equivale a\", conversion,\"F\")\n",
    "    elif medida_origen==\"C\" and medida_destino==\"K\":\n",
    "        conversion=valor+273.15\n",
    "        print(valor,\"C equivale a\", conversion,\"K\")\n",
    "    elif medida_origen==\"F\" and medida_destino==\"C\":\n",
    "        conversion=(valor-32)*5/9\n",
    "        print(valor,\"F equivale a\", conversion,\"C\")\n",
    "    elif medida_origen==\"F\" and medida_destino==\"K\":\n",
    "        conversion=((valor-32)*5/9)+273.15\n",
    "        print(valor,\"F equivale a\", conversion,\"K\")\n",
    "    elif medida_origen==\"K\" and medida_destino==\"C\":\n",
    "        conversion=valor-273.15\n",
    "        print(valor,\"K equivale a\", conversion,\"C\")\n",
    "    elif medida_origen==\"K\" and medida_destino==\"F\":\n",
    "        conversion=((valor-273.15)*9/5)+32\n",
    "        print(valor,\"K equivale a\", conversion,\"F\")\n",
    "    elif medida_origen==medida_destino:\n",
    "        print(\"se ha ingresado el mismo tipo de medida origen y medida destino, por lo tanto no se puede procesar la conversión\")\n",
    "    else:\n",
    "        print(\"no se ha ingresado datos válidos para realizar la conversión, recuerda usar para gardos celsius:C, para grados Farenheit:F y para grados Kelvin:K\")\n"
   ]
  },
  {
   "cell_type": "code",
   "execution_count": 52,
   "metadata": {},
   "outputs": [
    {
     "name": "stdout",
     "output_type": "stream",
     "text": [
      "se ha ingresado el mismo tipo de medida origen y medida destino, por lo tanto no se puede procesar la conversión\n"
     ]
    }
   ],
   "source": [
    "calcular_temperatura(0,\"C\",\"C\")"
   ]
  },
  {
   "attachments": {},
   "cell_type": "markdown",
   "metadata": {},
   "source": [
    "5) Iterando una lista con los tres valores posibles de temperatura que recibe la función del punto 5, hacer un print para cada combinación de los mismos:"
   ]
  },
  {
   "cell_type": "code",
   "execution_count": 58,
   "metadata": {},
   "outputs": [
    {
     "name": "stdout",
     "output_type": "stream",
     "text": [
      "se ha ingresado el mismo tipo de medida origen y medida destino, por lo tanto no se puede procesar la conversión\n",
      "1 grado C a C : None\n",
      "1 C equivale a 274.15 K\n",
      "1 grado C a K : None\n",
      "1 C equivale a 33.8 F\n",
      "1 grado C a F : None\n",
      "1 K equivale a -272.15 C\n",
      "1 grado K a C : None\n",
      "se ha ingresado el mismo tipo de medida origen y medida destino, por lo tanto no se puede procesar la conversión\n",
      "1 grado K a K : None\n",
      "1 K equivale a -457.87 F\n",
      "1 grado K a F : None\n",
      "1 F equivale a -17.22222222222222 C\n",
      "1 grado F a C : None\n",
      "1 F equivale a 255.92777777777775 K\n",
      "1 grado F a K : None\n",
      "se ha ingresado el mismo tipo de medida origen y medida destino, por lo tanto no se puede procesar la conversión\n",
      "1 grado F a F : None\n"
     ]
    }
   ],
   "source": [
    "metricas = [\"C\", \"K\", \"F\"]\n",
    "for x in range(0, 3):\n",
    "    for y in range(0, 3):\n",
    "        print(\"1 grado\", metricas[x], \"a\", metricas[y], \":\", calcular_temperatura(1, metricas[x], metricas[y]))"
   ]
  },
  {
   "attachments": {},
   "cell_type": "markdown",
   "metadata": {},
   "source": [
    "6) Armar una función que devuelva el factorial de un número. Tener en cuenta que el usuario puede equivocarse y enviar de parámetro un número no entero o negativo"
   ]
  },
  {
   "cell_type": "code",
   "execution_count": 65,
   "metadata": {},
   "outputs": [],
   "source": [
    "def factorial(n):\n",
    "    if (type(n) == int):\n",
    "        if (n > 0):\n",
    "            factorial = n\n",
    "            while (n > 2):\n",
    "                n = n - 1\n",
    "                factorial = factorial * n\n",
    "            print('El factorial es', factorial)\n",
    "        else:\n",
    "            print('La variable no es mayor a cero')\n",
    "    else:\n",
    "        print('La variable no es un entero')\n",
    "    "
   ]
  },
  {
   "cell_type": "code",
   "execution_count": 66,
   "metadata": {},
   "outputs": [
    {
     "name": "stdout",
     "output_type": "stream",
     "text": [
      "El factorial es 720\n"
     ]
    }
   ],
   "source": [
    "factorial(6)"
   ]
  }
 ],
 "metadata": {
  "interpreter": {
   "hash": "c85384e4cb51c8b72350f3a8712cc8351fdc3955e32a27f9b60c6242ab125f01"
  },
  "kernelspec": {
   "display_name": "Python 3 (ipykernel)",
   "language": "python",
   "name": "python3"
  },
  "language_info": {
   "codemirror_mode": {
    "name": "ipython",
    "version": 3
   },
   "file_extension": ".py",
   "mimetype": "text/x-python",
   "name": "python",
   "nbconvert_exporter": "python",
   "pygments_lexer": "ipython3",
   "version": "3.11.8"
  }
 },
 "nbformat": 4,
 "nbformat_minor": 4
}
